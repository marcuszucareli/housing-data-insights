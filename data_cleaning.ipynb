{
 "cells": [
  {
   "cell_type": "code",
   "execution_count": 1,
   "metadata": {},
   "outputs": [],
   "source": [
    "import pandas as pd"
   ]
  },
  {
   "cell_type": "code",
   "execution_count": 2,
   "metadata": {},
   "outputs": [],
   "source": [
    "# Read data\n",
    "df = pd.read_csv(\"apartments_data_scraped.csv\")"
   ]
  },
  {
   "cell_type": "code",
   "execution_count": 4,
   "metadata": {},
   "outputs": [
    {
     "name": "stdout",
     "output_type": "stream",
     "text": [
      "   Unnamed: 0.1  Unnamed: 0                    neighborhood  \\\n",
      "0             0           0                   Monte Castelo   \n",
      "1             1           1                   Monte Castelo   \n",
      "2             2           2                        Vila Ema   \n",
      "3             3           3     Parque Residencial Aquarius   \n",
      "4             4           4                   Monte Castelo   \n",
      "5             5           5  Condomínio Recanto da Baronesa   \n",
      "6             6           6                 Jardim Satélite   \n",
      "7             7           7             Jardim Oswaldo Cruz   \n",
      "8             8           8             Jardim Oswaldo Cruz   \n",
      "9             9           9                 Jardim Satélite   \n",
      "\n",
      "                   city                                 street  \\\n",
      "0   São José dos Campos                Rua Vinte e Um de Abril   \n",
      "1   São José dos Campos              Rua Capitão Raul Fagundes   \n",
      "2   São José dos Campos                      Rua Padre Rodolfo   \n",
      "3   São José dos Campos  Rua Doutor Jorge de Oliveira Coutinho   \n",
      "4   São José dos Campos                         Rua Guararapes   \n",
      "5   São José dos Campos   Avenida Padre Benedito Luiz da Costa   \n",
      "6   São José dos Campos             Rua Mário Alves de Almeida   \n",
      "7   São José dos Campos                Rua República do Líbano   \n",
      "8   São José dos Campos                Rua República de Israel   \n",
      "9   São José dos Campos              Avenida Papa João Paulo I   \n",
      "\n",
      "                                         description     area  rooms parking  \\\n",
      "0  LINDO APARTAMENTO\\n54 M² COM VARANDA \\n-2 QUAR...       54      2       1   \n",
      "1  O Edifício Grand Castelo foi projetado para qu...  63 - 65      2       1   \n",
      "2  Apartamento - Jardim Apolo - Residencial Allur...      120      3       2   \n",
      "3  Apartamento de luxo com 4 suítes à venda, 360m...      360      4       4   \n",
      "4  LINDO APARTAMENTO\\n54 M² COM VARANDA \\n-2 QUAR...       54      2       1   \n",
      "5  Utilize seu FGTS na entrada.\\nEntrada parcelad...       55      2       1   \n",
      "6  Cobertura Duplex no bairro Jardim Satélite com...      165      3       3   \n",
      "7  104 M² - 3 DORMITÓRIOS / 1 SUÍTE 2 VAGAS PARAL...      104      3       2   \n",
      "8  O Attuale chegou para atualizar suas definiçõe...  56 - 73  2 - 3   1 - 2   \n",
      "9  Em andar médio, vista livre, piso em madeira e...       88      3       2   \n",
      "\n",
      "  bathrooms  \n",
      "0         1  \n",
      "1         2  \n",
      "2         3  \n",
      "3         5  \n",
      "4         1  \n",
      "5         2  \n",
      "6         1  \n",
      "7         3  \n",
      "8         2  \n",
      "9         2  \n",
      "<class 'pandas.core.frame.DataFrame'>\n",
      "RangeIndex: 1500 entries, 0 to 1499\n",
      "Data columns (total 10 columns):\n",
      " #   Column        Non-Null Count  Dtype \n",
      "---  ------        --------------  ----- \n",
      " 0   Unnamed: 0.1  1500 non-null   int64 \n",
      " 1   Unnamed: 0    1500 non-null   int64 \n",
      " 2   neighborhood  1500 non-null   object\n",
      " 3   city          1500 non-null   object\n",
      " 4   street        1236 non-null   object\n",
      " 5   description   1500 non-null   object\n",
      " 6   area          1500 non-null   object\n",
      " 7   rooms         1500 non-null   object\n",
      " 8   parking       1470 non-null   object\n",
      " 9   bathrooms     1500 non-null   object\n",
      "dtypes: int64(2), object(8)\n",
      "memory usage: 117.3+ KB\n"
     ]
    }
   ],
   "source": [
    "# First insights on data\n",
    "print(df.head(10))\n",
    "df.info()"
   ]
  },
  {
   "cell_type": "code",
   "execution_count": null,
   "metadata": {},
   "outputs": [],
   "source": []
  }
 ],
 "metadata": {
  "kernelspec": {
   "display_name": ".venv",
   "language": "python",
   "name": "python3"
  },
  "language_info": {
   "codemirror_mode": {
    "name": "ipython",
    "version": 3
   },
   "file_extension": ".py",
   "mimetype": "text/x-python",
   "name": "python",
   "nbconvert_exporter": "python",
   "pygments_lexer": "ipython3",
   "version": "3.11.5"
  }
 },
 "nbformat": 4,
 "nbformat_minor": 2
}

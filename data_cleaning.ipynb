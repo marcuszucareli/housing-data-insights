{
 "cells": [
  {
   "cell_type": "code",
   "execution_count": 1,
   "metadata": {},
   "outputs": [],
   "source": [
    "import pandas as pd\n",
    "from nominatim import coordinates_dataframe"
   ]
  },
  {
   "cell_type": "markdown",
   "metadata": {},
   "source": [
    "# Importing"
   ]
  },
  {
   "cell_type": "code",
   "execution_count": 2,
   "metadata": {},
   "outputs": [],
   "source": [
    "# Read data\n",
    "df = pd.read_csv(\"apartments_data_scraped.csv\", index_col=0)\n",
    "\n",
    "# Copy for future comparison \n",
    "df_original = df.copy()"
   ]
  },
  {
   "cell_type": "markdown",
   "metadata": {},
   "source": [
    "## Disclaimer on API calls"
   ]
  },
  {
   "cell_type": "code",
   "execution_count": 3,
   "metadata": {},
   "outputs": [
    {
     "data": {
      "text/plain": [
       "'\\n!!! ATTENTION !!!\\n\\nThe nominatim API has a limit rate of one call per second, so the result of the function is saved in a file called apartments_data.csv.\\n\\nI already did that, so the function will be commented down bellow, if you need to rerun this file, uncomment the line. \\n\\n'"
      ]
     },
     "execution_count": 3,
     "metadata": {},
     "output_type": "execute_result"
    }
   ],
   "source": [
    "# Call function to get the coordinates of each street via API\n",
    "'''\n",
    "!!! ATTENTION !!!\n",
    "\n",
    "The nominatim API has a limit rate of one call per second, so the result of the function is saved in a file called apartments_data.csv.\n",
    "\n",
    "I already did that, so the function will be commented down bellow, if you need to rerun this file, uncomment the line. \n",
    "\n",
    "'''\n",
    "# coordinates_dataframe(df)"
   ]
  },
  {
   "cell_type": "code",
   "execution_count": 4,
   "metadata": {},
   "outputs": [],
   "source": [
    "# Get dataframe with coords\n",
    "df = pd.read_csv('apartments_data.csv')"
   ]
  },
  {
   "cell_type": "markdown",
   "metadata": {},
   "source": [
    "# Initial exploration"
   ]
  },
  {
   "cell_type": "code",
   "execution_count": 5,
   "metadata": {},
   "outputs": [
    {
     "name": "stdout",
     "output_type": "stream",
     "text": [
      "   Unnamed: 0.1  Unnamed: 0                   neighborhood  \\\n",
      "0             0           0    Parque Residencial Aquarius   \n",
      "1             1           1                  Jardim Fátima   \n",
      "2             2           2               Jardim Esplanada   \n",
      "3             3           3          Palmeiras de São José   \n",
      "4             4           4            Jardim Oswaldo Cruz   \n",
      "5             5           5  Parque Residencial Flamboyant   \n",
      "6             6           6                       Vila Ema   \n",
      "7             7           7              Parque Industrial   \n",
      "8             8           8            Jardim Oswaldo Cruz   \n",
      "9             9           9          Palmeiras de São José   \n",
      "\n",
      "                   city                        street  \\\n",
      "0   São José dos Campos  Rua Benedito Osvaldo Lecques   \n",
      "1   São José dos Campos                  Rua Ipiranga   \n",
      "2   São José dos Campos           Rua Laurent Martins   \n",
      "3   São José dos Campos                Rua José Cobra   \n",
      "4   São José dos Campos       Rua República do Líbano   \n",
      "5   São José dos Campos   Rua Sandro Bezerra da Silva   \n",
      "6   São José dos Campos             Rua Padre Rodolfo   \n",
      "7   São José dos Campos             Avenida Fortaleza   \n",
      "8   São José dos Campos       Rua República de Israel   \n",
      "9   São José dos Campos                           NaN   \n",
      "\n",
      "                                         description     area  rooms parking  \\\n",
      "0  Cobertura com 3 dormitórios à venda, 193 m² po...      160      3       3   \n",
      "1  Casa de Campo, Piscina Adulto e Infantil, Chur...       87      2       2   \n",
      "2  Em andar alto e com uma vista incrível para a ...      124      4       3   \n",
      "3  Descrição do Imóvel:\\nApartamento mobiliado de...       47      2     NaN   \n",
      "4  104 M² - 3 DORMITÓRIOS / 1 SUÍTE 2 VAGAS PARAL...      104      3       2   \n",
      "5  Residencial Vistta Flamboyant\\n\\n- 2 dormitóri...       60      2       1   \n",
      "6  Apartamento - Residencial Haus - Vila Ema - 2 ...       80      2       2   \n",
      "7  AP3755\\nApartamento de 65MT - 2 Dormitórios se...       65      2       1   \n",
      "8  O Attuale chegou para atualizar suas definiçõe...  56 - 73  2 - 3   1 - 2   \n",
      "9  Apartament0o de 3 dormitórios no Parque Indust...       66      3       2   \n",
      "\n",
      "  bathrooms               price  \\\n",
      "0         2                 NaN   \n",
      "1         3  Valor sob consulta   \n",
      "2         3             1090000   \n",
      "3         2              335000   \n",
      "4         3              590000   \n",
      "5         2              300000   \n",
      "6         2              848500   \n",
      "7         2              515000   \n",
      "8         2              530000   \n",
      "9         2              520000   \n",
      "\n",
      "                                                 url        lat        lon  \n",
      "0  https://www.zapimoveis.com.br/imovel/venda-cob... -23.222113 -45.909534  \n",
      "1  https://www.zapimoveis.com.br/lancamento/venda... -23.207893 -45.896603  \n",
      "2  https://www.zapimoveis.com.br/imovel/venda-apa... -23.197917 -45.911362  \n",
      "3  https://www.zapimoveis.com.br/imovel/venda-apa... -23.250217 -45.917066  \n",
      "4                                                NaN -23.201250 -45.883484  \n",
      "5  https://www.zapimoveis.com.br/imovel/venda-apa... -23.214223 -45.851209  \n",
      "6  https://www.zapimoveis.com.br/imovel/venda-apa... -23.203881 -45.902105  \n",
      "7  https://www.zapimoveis.com.br/imovel/venda-apa... -23.226731 -45.903681  \n",
      "8  https://www.zapimoveis.com.br/lancamento/venda... -23.200832 -45.883038  \n",
      "9  https://www.zapimoveis.com.br/imovel/venda-apa...        NaN        NaN  \n",
      "<class 'pandas.core.frame.DataFrame'>\n",
      "RangeIndex: 1499 entries, 0 to 1498\n",
      "Data columns (total 14 columns):\n",
      " #   Column        Non-Null Count  Dtype  \n",
      "---  ------        --------------  -----  \n",
      " 0   Unnamed: 0.1  1499 non-null   int64  \n",
      " 1   Unnamed: 0    1499 non-null   int64  \n",
      " 2   neighborhood  1499 non-null   object \n",
      " 3   city          1499 non-null   object \n",
      " 4   street        1182 non-null   object \n",
      " 5   description   1499 non-null   object \n",
      " 6   area          1499 non-null   object \n",
      " 7   rooms         1499 non-null   object \n",
      " 8   parking       1466 non-null   object \n",
      " 9   bathrooms     1499 non-null   object \n",
      " 10  price         1343 non-null   object \n",
      " 11  url           1282 non-null   object \n",
      " 12  lat           1063 non-null   float64\n",
      " 13  lon           1063 non-null   float64\n",
      "dtypes: float64(2), int64(2), object(10)\n",
      "memory usage: 164.1+ KB\n"
     ]
    }
   ],
   "source": [
    "# First insights on data\n",
    "print(df.head(10))\n",
    "df.info()"
   ]
  },
  {
   "cell_type": "code",
   "execution_count": 6,
   "metadata": {},
   "outputs": [
    {
     "name": "stdout",
     "output_type": "stream",
     "text": [
      "                  neighborhood                  city  \\\n",
      "0  Parque Residencial Aquarius   São José dos Campos   \n",
      "1                Jardim Fátima   São José dos Campos   \n",
      "2             Jardim Esplanada   São José dos Campos   \n",
      "3        Palmeiras de São José   São José dos Campos   \n",
      "4          Jardim Oswaldo Cruz   São José dos Campos   \n",
      "\n",
      "                         street  \\\n",
      "0  Rua Benedito Osvaldo Lecques   \n",
      "1                  Rua Ipiranga   \n",
      "2           Rua Laurent Martins   \n",
      "3                Rua José Cobra   \n",
      "4       Rua República do Líbano   \n",
      "\n",
      "                                         description area rooms parking  \\\n",
      "0  Cobertura com 3 dormitórios à venda, 193 m² po...  160     3       3   \n",
      "1  Casa de Campo, Piscina Adulto e Infantil, Chur...   87     2       2   \n",
      "2  Em andar alto e com uma vista incrível para a ...  124     4       3   \n",
      "3  Descrição do Imóvel:\\nApartamento mobiliado de...   47     2     NaN   \n",
      "4  104 M² - 3 DORMITÓRIOS / 1 SUÍTE 2 VAGAS PARAL...  104     3       2   \n",
      "\n",
      "  bathrooms               price  \\\n",
      "0         2                 NaN   \n",
      "1         3  Valor sob consulta   \n",
      "2         3             1090000   \n",
      "3         2              335000   \n",
      "4         3              590000   \n",
      "\n",
      "                                                 url        lat        lon  \n",
      "0  https://www.zapimoveis.com.br/imovel/venda-cob... -23.222113 -45.909534  \n",
      "1  https://www.zapimoveis.com.br/lancamento/venda... -23.207893 -45.896603  \n",
      "2  https://www.zapimoveis.com.br/imovel/venda-apa... -23.197917 -45.911362  \n",
      "3  https://www.zapimoveis.com.br/imovel/venda-apa... -23.250217 -45.917066  \n",
      "4                                                NaN -23.201250 -45.883484  \n"
     ]
    }
   ],
   "source": [
    "# Drop unnamed columns\n",
    "df = df.drop(columns=['Unnamed: 0.1',  'Unnamed: 0'])\n",
    "print(df.head())"
   ]
  },
  {
   "cell_type": "markdown",
   "metadata": {},
   "source": [
    "## Getting columns for PCA\n",
    "\n",
    "There're 07 columns that we expected to be numerical, and so we can use in our PCA analysis:\n",
    "- Area\n",
    "- Rooms\n",
    "- Parking\n",
    "- Bathrooms\n",
    "- Lat\n",
    "- Lon\n",
    "- Price\n",
    "\n",
    "Only lat and lon are presented as numerical in cel #19. Let's see what's happening in the other columns"
   ]
  },
  {
   "cell_type": "code",
   "execution_count": 7,
   "metadata": {},
   "outputs": [],
   "source": [
    "# Get the numerical variables for a PCA test\n",
    "df = df[['area', 'rooms', 'parking', 'bathrooms', 'lat', 'lon', 'price']]"
   ]
  },
  {
   "cell_type": "markdown",
   "metadata": {},
   "source": [
    "## Evaluating Area"
   ]
  },
  {
   "cell_type": "code",
   "execution_count": 8,
   "metadata": {},
   "outputs": [
    {
     "name": "stdout",
     "output_type": "stream",
     "text": [
      "      area  rooms parking bathrooms        lat        lon               price  \\\n",
      "0      160      3       3         2 -23.222113 -45.909534                 NaN   \n",
      "1       87      2       2         3 -23.207893 -45.896603  Valor sob consulta   \n",
      "2      124      4       3         3 -23.197917 -45.911362             1090000   \n",
      "3       47      2     NaN         2 -23.250217 -45.917066              335000   \n",
      "4      104      3       2         3 -23.201250 -45.883484              590000   \n",
      "5       60      2       1         2 -23.214223 -45.851209              300000   \n",
      "6       80      2       2         2 -23.203881 -45.902105              848500   \n",
      "7       65      2       1         2 -23.226731 -45.903681              515000   \n",
      "8  56 - 73  2 - 3   1 - 2         2 -23.200832 -45.883038              530000   \n",
      "9       66      3       2         2        NaN        NaN              520000   \n",
      "\n",
      "   area_is_numeric  rooms_is_numeric  parking_is_numeric  \\\n",
      "0            160.0               3.0                 3.0   \n",
      "1             87.0               2.0                 2.0   \n",
      "2            124.0               4.0                 3.0   \n",
      "3             47.0               2.0                 NaN   \n",
      "4            104.0               3.0                 2.0   \n",
      "5             60.0               2.0                 1.0   \n",
      "6             80.0               2.0                 2.0   \n",
      "7             65.0               2.0                 1.0   \n",
      "8              NaN               NaN                 NaN   \n",
      "9             66.0               3.0                 2.0   \n",
      "\n",
      "   bathrooms_is_numeric  lat_is_numeric  lon_is_numeric  price_is_numeric  \n",
      "0                   2.0      -23.222113      -45.909534               NaN  \n",
      "1                   3.0      -23.207893      -45.896603               NaN  \n",
      "2                   3.0      -23.197917      -45.911362         1090000.0  \n",
      "3                   2.0      -23.250217      -45.917066          335000.0  \n",
      "4                   3.0      -23.201250      -45.883484          590000.0  \n",
      "5                   2.0      -23.214223      -45.851209          300000.0  \n",
      "6                   2.0      -23.203881      -45.902105          848500.0  \n",
      "7                   2.0      -23.226731      -45.903681          515000.0  \n",
      "8                   2.0      -23.200832      -45.883038          530000.0  \n",
      "9                   2.0             NaN             NaN          520000.0  \n"
     ]
    }
   ],
   "source": [
    "# Create a \"is_numeric\" column for each column\n",
    "columns = df.columns\n",
    "\n",
    "for column in columns:\n",
    "    \n",
    "    column_name = column + '_is_numeric'\n",
    "    df[column_name] = pd.to_numeric(df[column], errors='coerce')\n",
    "\n",
    "print(df.head(10))"
   ]
  },
  {
   "cell_type": "code",
   "execution_count": 9,
   "metadata": {},
   "outputs": [
    {
     "name": "stdout",
     "output_type": "stream",
     "text": [
      "Number of non-numeric areas:  28\n",
      "             area  area_is_numeric\n",
      "8         56 - 73              NaN\n",
      "16        38 - 62              NaN\n",
      "23        56 - 73              NaN\n",
      "31        56 - 73              NaN\n",
      "41        58 - 60              NaN\n",
      "43        52 - 55              NaN\n",
      "73        51 - 52              NaN\n",
      "74        65 - 70              NaN\n",
      "85   50 - 58 - 63              NaN\n",
      "156       61 - 62              NaN\n"
     ]
    }
   ],
   "source": [
    "# Analyzing area column\n",
    "non_numeric_area = df[df['area_is_numeric'].isna()]\n",
    "non_numeric_area = non_numeric_area[['area', 'area_is_numeric']]\n",
    "number_non_numeric_area = len(non_numeric_area)\n",
    "print('Number of non-numeric areas: ', number_non_numeric_area)\n",
    "print(non_numeric_area.head(10))"
   ]
  },
  {
   "cell_type": "markdown",
   "metadata": {},
   "source": [
    "28 apartments have more than one area separated by \"-\", this means the price should vary between each area. Since we only have the price for one area, and we don't know wich one it represents, we will exclude these apartments from our analysis  \n"
   ]
  },
  {
   "cell_type": "code",
   "execution_count": 10,
   "metadata": {},
   "outputs": [
    {
     "name": "stdout",
     "output_type": "stream",
     "text": [
      "   area rooms parking bathrooms        lat        lon               price  \\\n",
      "0   160     3       3         2 -23.222113 -45.909534                 NaN   \n",
      "1    87     2       2         3 -23.207893 -45.896603  Valor sob consulta   \n",
      "2   124     4       3         3 -23.197917 -45.911362             1090000   \n",
      "3    47     2     NaN         2 -23.250217 -45.917066              335000   \n",
      "4   104     3       2         3 -23.201250 -45.883484              590000   \n",
      "5    60     2       1         2 -23.214223 -45.851209              300000   \n",
      "6    80     2       2         2 -23.203881 -45.902105              848500   \n",
      "7    65     2       1         2 -23.226731 -45.903681              515000   \n",
      "9    66     3       2         2        NaN        NaN              520000   \n",
      "10   55     2       1         2        NaN        NaN              359900   \n",
      "\n",
      "    area_is_numeric  rooms_is_numeric  parking_is_numeric  \\\n",
      "0             160.0               3.0                 3.0   \n",
      "1              87.0               2.0                 2.0   \n",
      "2             124.0               4.0                 3.0   \n",
      "3              47.0               2.0                 NaN   \n",
      "4             104.0               3.0                 2.0   \n",
      "5              60.0               2.0                 1.0   \n",
      "6              80.0               2.0                 2.0   \n",
      "7              65.0               2.0                 1.0   \n",
      "9              66.0               3.0                 2.0   \n",
      "10             55.0               2.0                 1.0   \n",
      "\n",
      "    bathrooms_is_numeric  lat_is_numeric  lon_is_numeric  price_is_numeric  \n",
      "0                    2.0      -23.222113      -45.909534               NaN  \n",
      "1                    3.0      -23.207893      -45.896603               NaN  \n",
      "2                    3.0      -23.197917      -45.911362         1090000.0  \n",
      "3                    2.0      -23.250217      -45.917066          335000.0  \n",
      "4                    3.0      -23.201250      -45.883484          590000.0  \n",
      "5                    2.0      -23.214223      -45.851209          300000.0  \n",
      "6                    2.0      -23.203881      -45.902105          848500.0  \n",
      "7                    2.0      -23.226731      -45.903681          515000.0  \n",
      "9                    2.0             NaN             NaN          520000.0  \n",
      "10                   2.0             NaN             NaN          359900.0  \n"
     ]
    }
   ],
   "source": [
    "mask = ~df['area_is_numeric'].isna()\n",
    "df = df[mask]\n",
    "print(df.head(10))"
   ]
  },
  {
   "cell_type": "markdown",
   "metadata": {},
   "source": [
    "## Evaluating Rooms"
   ]
  },
  {
   "cell_type": "code",
   "execution_count": 11,
   "metadata": {},
   "outputs": [
    {
     "name": "stdout",
     "output_type": "stream",
     "text": [
      "Number of non-numeric rooms:  8\n",
      "            rooms  rooms_is_numeric\n",
      "46          2 - 3               NaN\n",
      "205         2 - 3               NaN\n",
      "372         3 - 4               NaN\n",
      "490         2 - 3               NaN\n",
      "597   3 - 10 - 11               NaN\n",
      "1086        4 - 5               NaN\n",
      "1282        2 - 3               NaN\n",
      "1368        4 - 5               NaN\n"
     ]
    }
   ],
   "source": [
    "# Analyzing rooms column\n",
    "non_numeric_rooms = df[df['rooms_is_numeric'].isna()]\n",
    "non_numeric_rooms = non_numeric_rooms[['rooms', 'rooms_is_numeric']]\n",
    "number_non_numeric_rooms = len(non_numeric_rooms)\n",
    "print('Number of non-numeric rooms: ', number_non_numeric_rooms)\n",
    "print(non_numeric_rooms.head(10))"
   ]
  },
  {
   "cell_type": "markdown",
   "metadata": {},
   "source": [
    "There're 8 rows with rooms that vary and we don't know wich one represents the price of the apartment. Thus, we will also exclude those datas from our analysis"
   ]
  },
  {
   "cell_type": "code",
   "execution_count": 12,
   "metadata": {},
   "outputs": [
    {
     "name": "stdout",
     "output_type": "stream",
     "text": [
      "   area rooms parking bathrooms        lat        lon               price  \\\n",
      "0   160     3       3         2 -23.222113 -45.909534                 NaN   \n",
      "1    87     2       2         3 -23.207893 -45.896603  Valor sob consulta   \n",
      "2   124     4       3         3 -23.197917 -45.911362             1090000   \n",
      "3    47     2     NaN         2 -23.250217 -45.917066              335000   \n",
      "4   104     3       2         3 -23.201250 -45.883484              590000   \n",
      "5    60     2       1         2 -23.214223 -45.851209              300000   \n",
      "6    80     2       2         2 -23.203881 -45.902105              848500   \n",
      "7    65     2       1         2 -23.226731 -45.903681              515000   \n",
      "9    66     3       2         2        NaN        NaN              520000   \n",
      "10   55     2       1         2        NaN        NaN              359900   \n",
      "\n",
      "    area_is_numeric  rooms_is_numeric  parking_is_numeric  \\\n",
      "0             160.0               3.0                 3.0   \n",
      "1              87.0               2.0                 2.0   \n",
      "2             124.0               4.0                 3.0   \n",
      "3              47.0               2.0                 NaN   \n",
      "4             104.0               3.0                 2.0   \n",
      "5              60.0               2.0                 1.0   \n",
      "6              80.0               2.0                 2.0   \n",
      "7              65.0               2.0                 1.0   \n",
      "9              66.0               3.0                 2.0   \n",
      "10             55.0               2.0                 1.0   \n",
      "\n",
      "    bathrooms_is_numeric  lat_is_numeric  lon_is_numeric  price_is_numeric  \n",
      "0                    2.0      -23.222113      -45.909534               NaN  \n",
      "1                    3.0      -23.207893      -45.896603               NaN  \n",
      "2                    3.0      -23.197917      -45.911362         1090000.0  \n",
      "3                    2.0      -23.250217      -45.917066          335000.0  \n",
      "4                    3.0      -23.201250      -45.883484          590000.0  \n",
      "5                    2.0      -23.214223      -45.851209          300000.0  \n",
      "6                    2.0      -23.203881      -45.902105          848500.0  \n",
      "7                    2.0      -23.226731      -45.903681          515000.0  \n",
      "9                    2.0             NaN             NaN          520000.0  \n",
      "10                   2.0             NaN             NaN          359900.0  \n"
     ]
    }
   ],
   "source": [
    "mask = ~df['rooms_is_numeric'].isna()\n",
    "df = df[mask]\n",
    "print(df.head(10))"
   ]
  },
  {
   "cell_type": "markdown",
   "metadata": {},
   "source": [
    "## Evaluating Parking"
   ]
  },
  {
   "cell_type": "code",
   "execution_count": 13,
   "metadata": {},
   "outputs": [
    {
     "name": "stdout",
     "output_type": "stream",
     "text": [
      "Number of non-numeric parking:  46\n",
      "    parking  parking_is_numeric\n",
      "3       NaN                 NaN\n",
      "35    1 - 2                 NaN\n",
      "72      NaN                 NaN\n",
      "130     NaN                 NaN\n",
      "139   1 - 2                 NaN\n",
      "239     NaN                 NaN\n",
      "304   2 - 7                 NaN\n",
      "318     NaN                 NaN\n",
      "325     NaN                 NaN\n",
      "375     NaN                 NaN\n"
     ]
    }
   ],
   "source": [
    "# Analyzing parking column\n",
    "non_numeric_parking = df[df['parking_is_numeric'].isna()]\n",
    "non_numeric_parking = non_numeric_parking[['parking', 'parking_is_numeric']]\n",
    "number_non_numeric_parking = len(non_numeric_parking)\n",
    "print('Number of non-numeric parking: ', number_non_numeric_parking)\n",
    "print(non_numeric_parking.head(10))"
   ]
  },
  {
   "cell_type": "markdown",
   "metadata": {},
   "source": [
    "46 apartments either have no information about parking or do not have any information at all. For that, we will also exclude them from our analisys"
   ]
  },
  {
   "cell_type": "code",
   "execution_count": 14,
   "metadata": {},
   "outputs": [
    {
     "name": "stdout",
     "output_type": "stream",
     "text": [
      "   area rooms parking bathrooms        lat        lon               price  \\\n",
      "0   160     3       3         2 -23.222113 -45.909534                 NaN   \n",
      "1    87     2       2         3 -23.207893 -45.896603  Valor sob consulta   \n",
      "2   124     4       3         3 -23.197917 -45.911362             1090000   \n",
      "4   104     3       2         3 -23.201250 -45.883484              590000   \n",
      "5    60     2       1         2 -23.214223 -45.851209              300000   \n",
      "6    80     2       2         2 -23.203881 -45.902105              848500   \n",
      "7    65     2       1         2 -23.226731 -45.903681              515000   \n",
      "9    66     3       2         2        NaN        NaN              520000   \n",
      "10   55     2       1         2        NaN        NaN              359900   \n",
      "11   42     2       1         2 -23.231972 -45.894292              300000   \n",
      "\n",
      "    area_is_numeric  rooms_is_numeric  parking_is_numeric  \\\n",
      "0             160.0               3.0                 3.0   \n",
      "1              87.0               2.0                 2.0   \n",
      "2             124.0               4.0                 3.0   \n",
      "4             104.0               3.0                 2.0   \n",
      "5              60.0               2.0                 1.0   \n",
      "6              80.0               2.0                 2.0   \n",
      "7              65.0               2.0                 1.0   \n",
      "9              66.0               3.0                 2.0   \n",
      "10             55.0               2.0                 1.0   \n",
      "11             42.0               2.0                 1.0   \n",
      "\n",
      "    bathrooms_is_numeric  lat_is_numeric  lon_is_numeric  price_is_numeric  \n",
      "0                    2.0      -23.222113      -45.909534               NaN  \n",
      "1                    3.0      -23.207893      -45.896603               NaN  \n",
      "2                    3.0      -23.197917      -45.911362         1090000.0  \n",
      "4                    3.0      -23.201250      -45.883484          590000.0  \n",
      "5                    2.0      -23.214223      -45.851209          300000.0  \n",
      "6                    2.0      -23.203881      -45.902105          848500.0  \n",
      "7                    2.0      -23.226731      -45.903681          515000.0  \n",
      "9                    2.0             NaN             NaN          520000.0  \n",
      "10                   2.0             NaN             NaN          359900.0  \n",
      "11                   2.0      -23.231972      -45.894292          300000.0  \n"
     ]
    }
   ],
   "source": [
    "mask = ~df['parking_is_numeric'].isna()\n",
    "df = df[mask]\n",
    "print(df.head(10))"
   ]
  },
  {
   "cell_type": "markdown",
   "metadata": {},
   "source": [
    "## Evaluating Bathrooms"
   ]
  },
  {
   "cell_type": "code",
   "execution_count": 15,
   "metadata": {},
   "outputs": [
    {
     "name": "stdout",
     "output_type": "stream",
     "text": [
      "Number of non-numeric bathrooms:  28\n",
      "     bathrooms  bathrooms_is_numeric\n",
      "14       2 - 3                   NaN\n",
      "80       1 - 2                   NaN\n",
      "146      1 - 2                   NaN\n",
      "160      2 - 3                   NaN\n",
      "162      1 - 2                   NaN\n",
      "175  3 - 4 - 5                   NaN\n",
      "207      2 - 3                   NaN\n",
      "278      2 - 3                   NaN\n",
      "289      1 - 2                   NaN\n",
      "319      1 - 2                   NaN\n"
     ]
    }
   ],
   "source": [
    "# Analyzing bathroom column\n",
    "non_numeric_bathrooms = df[df['bathrooms_is_numeric'].isna()]\n",
    "non_numeric_bathrooms = non_numeric_bathrooms[['bathrooms', 'bathrooms_is_numeric']]\n",
    "number_non_numeric_bathrooms = len(non_numeric_bathrooms)\n",
    "print('Number of non-numeric bathrooms: ', number_non_numeric_bathrooms)\n",
    "print(non_numeric_bathrooms.head(10))"
   ]
  },
  {
   "cell_type": "markdown",
   "metadata": {},
   "source": [
    "28 apartments have ambiguos infromation about number of bathrooms, we will exclude them from the analysis"
   ]
  },
  {
   "cell_type": "code",
   "execution_count": 16,
   "metadata": {},
   "outputs": [
    {
     "name": "stdout",
     "output_type": "stream",
     "text": [
      "   area rooms parking bathrooms        lat        lon               price  \\\n",
      "0   160     3       3         2 -23.222113 -45.909534                 NaN   \n",
      "1    87     2       2         3 -23.207893 -45.896603  Valor sob consulta   \n",
      "2   124     4       3         3 -23.197917 -45.911362             1090000   \n",
      "4   104     3       2         3 -23.201250 -45.883484              590000   \n",
      "5    60     2       1         2 -23.214223 -45.851209              300000   \n",
      "6    80     2       2         2 -23.203881 -45.902105              848500   \n",
      "7    65     2       1         2 -23.226731 -45.903681              515000   \n",
      "9    66     3       2         2        NaN        NaN              520000   \n",
      "10   55     2       1         2        NaN        NaN              359900   \n",
      "11   42     2       1         2 -23.231972 -45.894292              300000   \n",
      "\n",
      "    area_is_numeric  rooms_is_numeric  parking_is_numeric  \\\n",
      "0             160.0               3.0                 3.0   \n",
      "1              87.0               2.0                 2.0   \n",
      "2             124.0               4.0                 3.0   \n",
      "4             104.0               3.0                 2.0   \n",
      "5              60.0               2.0                 1.0   \n",
      "6              80.0               2.0                 2.0   \n",
      "7              65.0               2.0                 1.0   \n",
      "9              66.0               3.0                 2.0   \n",
      "10             55.0               2.0                 1.0   \n",
      "11             42.0               2.0                 1.0   \n",
      "\n",
      "    bathrooms_is_numeric  lat_is_numeric  lon_is_numeric  price_is_numeric  \n",
      "0                    2.0      -23.222113      -45.909534               NaN  \n",
      "1                    3.0      -23.207893      -45.896603               NaN  \n",
      "2                    3.0      -23.197917      -45.911362         1090000.0  \n",
      "4                    3.0      -23.201250      -45.883484          590000.0  \n",
      "5                    2.0      -23.214223      -45.851209          300000.0  \n",
      "6                    2.0      -23.203881      -45.902105          848500.0  \n",
      "7                    2.0      -23.226731      -45.903681          515000.0  \n",
      "9                    2.0             NaN             NaN          520000.0  \n",
      "10                   2.0             NaN             NaN          359900.0  \n",
      "11                   2.0      -23.231972      -45.894292          300000.0  \n"
     ]
    }
   ],
   "source": [
    "mask = ~df['bathrooms_is_numeric'].isna()\n",
    "df = df[mask]\n",
    "print(df.head(10))"
   ]
  },
  {
   "cell_type": "markdown",
   "metadata": {},
   "source": [
    "## Evaluating Price"
   ]
  },
  {
   "cell_type": "code",
   "execution_count": 17,
   "metadata": {},
   "outputs": [
    {
     "name": "stdout",
     "output_type": "stream",
     "text": [
      "Number of non-numeric price:  148\n",
      "                 price  price_is_numeric\n",
      "0                  NaN               NaN\n",
      "1   Valor sob consulta               NaN\n",
      "12                 NaN               NaN\n",
      "13                 NaN               NaN\n",
      "33                 NaN               NaN\n",
      "36                 NaN               NaN\n",
      "38  Valor sob consulta               NaN\n",
      "44                 NaN               NaN\n",
      "59                 NaN               NaN\n",
      "91                 NaN               NaN\n"
     ]
    }
   ],
   "source": [
    "# Analyzing price column\n",
    "non_numeric_price = df[df['price_is_numeric'].isna()]\n",
    "non_numeric_price = non_numeric_price[['price', 'price_is_numeric']]\n",
    "number_non_numeric_price = len(non_numeric_price)\n",
    "print('Number of non-numeric price: ', number_non_numeric_price)\n",
    "print(non_numeric_price.head(10))"
   ]
  },
  {
   "cell_type": "markdown",
   "metadata": {},
   "source": [
    "We got 148 apartments with no price. They will be excluded from the evaluation since it's the most important variable tha we have."
   ]
  },
  {
   "cell_type": "code",
   "execution_count": 18,
   "metadata": {},
   "outputs": [
    {
     "name": "stdout",
     "output_type": "stream",
     "text": [
      "   area rooms parking bathrooms        lat        lon    price  \\\n",
      "2   124     4       3         3 -23.197917 -45.911362  1090000   \n",
      "4   104     3       2         3 -23.201250 -45.883484   590000   \n",
      "5    60     2       1         2 -23.214223 -45.851209   300000   \n",
      "6    80     2       2         2 -23.203881 -45.902105   848500   \n",
      "7    65     2       1         2 -23.226731 -45.903681   515000   \n",
      "9    66     3       2         2        NaN        NaN   520000   \n",
      "10   55     2       1         2        NaN        NaN   359900   \n",
      "11   42     2       1         2 -23.231972 -45.894292   300000   \n",
      "15  278     3       4         5 -23.208221 -45.908325  3500000   \n",
      "17  233     4       3         5 -23.203424 -45.910521  2700000   \n",
      "\n",
      "    area_is_numeric  rooms_is_numeric  parking_is_numeric  \\\n",
      "2             124.0               4.0                 3.0   \n",
      "4             104.0               3.0                 2.0   \n",
      "5              60.0               2.0                 1.0   \n",
      "6              80.0               2.0                 2.0   \n",
      "7              65.0               2.0                 1.0   \n",
      "9              66.0               3.0                 2.0   \n",
      "10             55.0               2.0                 1.0   \n",
      "11             42.0               2.0                 1.0   \n",
      "15            278.0               3.0                 4.0   \n",
      "17            233.0               4.0                 3.0   \n",
      "\n",
      "    bathrooms_is_numeric  lat_is_numeric  lon_is_numeric  price_is_numeric  \n",
      "2                    3.0      -23.197917      -45.911362         1090000.0  \n",
      "4                    3.0      -23.201250      -45.883484          590000.0  \n",
      "5                    2.0      -23.214223      -45.851209          300000.0  \n",
      "6                    2.0      -23.203881      -45.902105          848500.0  \n",
      "7                    2.0      -23.226731      -45.903681          515000.0  \n",
      "9                    2.0             NaN             NaN          520000.0  \n",
      "10                   2.0             NaN             NaN          359900.0  \n",
      "11                   2.0      -23.231972      -45.894292          300000.0  \n",
      "15                   5.0      -23.208221      -45.908325         3500000.0  \n",
      "17                   5.0      -23.203424      -45.910521         2700000.0  \n"
     ]
    }
   ],
   "source": [
    "mask = ~df['price_is_numeric'].isna()\n",
    "df = df[mask]\n",
    "print(df.head(10))"
   ]
  },
  {
   "cell_type": "markdown",
   "metadata": {},
   "source": [
    "## Evaluating Lat and Lon"
   ]
  },
  {
   "cell_type": "code",
   "execution_count": 19,
   "metadata": {},
   "outputs": [
    {
     "name": "stdout",
     "output_type": "stream",
     "text": [
      "Number of non-numeric coords:  366\n",
      "Complete observations :  875\n"
     ]
    }
   ],
   "source": [
    "# Exclude apartments without coordinates\n",
    "non_numeric_coord = df[(df['lat'].isna()) | (df['lon'].isna())]\n",
    "number_non_numeric_coords = len(non_numeric_coord)\n",
    "\n",
    "df = df[~(df['lat'].isna()) | ~(df['lon'].isna())]\n",
    "total_cleaned_observations = len(df)\n",
    "\n",
    "print('Number of non-numeric coords: ', number_non_numeric_coords)\n",
    "print('Complete observations : ', len(df))"
   ]
  },
  {
   "cell_type": "markdown",
   "metadata": {},
   "source": [
    "# Conclusion"
   ]
  },
  {
   "cell_type": "code",
   "execution_count": 20,
   "metadata": {},
   "outputs": [
    {
     "name": "stdout",
     "output_type": "stream",
     "text": [
      "Total observations:  1499\n",
      "No Area:  28 1.87 %\n",
      "No Rooms:  8 0.53 %\n",
      "No Bathrooms:  28 1.87 %\n",
      "No Parking:  46 3.07 %\n",
      "No Coords:  366 24.42 %\n",
      "No Price:  148 9.87 %\n",
      "-------------------------------------------------------\n",
      "Remaining observations:  875 0.58 %\n"
     ]
    }
   ],
   "source": [
    "total_observations = len(df_original)\n",
    "print('Total observations: ', total_observations)\n",
    "print('No Area: ', number_non_numeric_area, f'{round(number_non_numeric_area/total_observations*100,2)} %')\n",
    "print('No Rooms: ', number_non_numeric_rooms, f'{round(number_non_numeric_rooms/total_observations*100,2)} %')\n",
    "print('No Bathrooms: ', number_non_numeric_bathrooms, f'{round(number_non_numeric_bathrooms/total_observations*100,2)} %')\n",
    "print('No Parking: ', number_non_numeric_parking, f'{round(number_non_numeric_parking/total_observations*100,2)} %')\n",
    "print('No Coords: ', number_non_numeric_coords, f'{round(number_non_numeric_coords/total_observations*100,2)} %')\n",
    "print('No Price: ', number_non_numeric_price, f'{round(number_non_numeric_price/total_observations*100,2)} %')\n",
    "print('-------------------------------------------------------')\n",
    "print('Remaining observations: ', len(df), f'{round(len(df)/total_observations,2)} %')"
   ]
  },
  {
   "cell_type": "code",
   "execution_count": 21,
   "metadata": {},
   "outputs": [],
   "source": [
    "df = df[['area', 'rooms', 'parking', 'bathrooms', 'lat', 'lon', 'price']]\n",
    "df.to_csv('apartments_data_cleaned.csv')"
   ]
  }
 ],
 "metadata": {
  "kernelspec": {
   "display_name": ".venv",
   "language": "python",
   "name": "python3"
  },
  "language_info": {
   "codemirror_mode": {
    "name": "ipython",
    "version": 3
   },
   "file_extension": ".py",
   "mimetype": "text/x-python",
   "name": "python",
   "nbconvert_exporter": "python",
   "pygments_lexer": "ipython3",
   "version": "3.11.5"
  }
 },
 "nbformat": 4,
 "nbformat_minor": 2
}

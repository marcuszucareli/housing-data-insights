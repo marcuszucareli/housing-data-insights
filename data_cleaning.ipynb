{
 "cells": [
  {
   "cell_type": "code",
   "execution_count": 1,
   "metadata": {},
   "outputs": [],
   "source": [
    "import pandas as pd\n",
    "from nominatim import coordinates_dataframe"
   ]
  },
  {
   "cell_type": "markdown",
   "metadata": {},
   "source": [
    "# Importing"
   ]
  },
  {
   "cell_type": "code",
   "execution_count": 2,
   "metadata": {},
   "outputs": [],
   "source": [
    "# Read data\n",
    "df = pd.read_csv(\"apartments_data_scraped.csv\")\n",
    "\n",
    "# Copy for future comparison \n",
    "df_original = df.copy()"
   ]
  },
  {
   "cell_type": "markdown",
   "metadata": {},
   "source": [
    "## Disclaimer on API calls"
   ]
  },
  {
   "cell_type": "code",
   "execution_count": 3,
   "metadata": {},
   "outputs": [
    {
     "data": {
      "text/plain": [
       "'\\n!!! ATTENTION !!!\\n\\nThe nominatim API has a limit rate of one call per second, so the result of the function is saved in a file called apartments_data.csv.\\n\\nI already did that, so the function will be commented down bellow, if you need to rerun this file, uncomment the line. \\n\\n'"
      ]
     },
     "execution_count": 3,
     "metadata": {},
     "output_type": "execute_result"
    }
   ],
   "source": [
    "# Call function to get the coordinates of each street via API\n",
    "'''\n",
    "!!! ATTENTION !!!\n",
    "\n",
    "The nominatim API has a limit rate of one call per second, so the result of the function is saved in a file called apartments_data.csv.\n",
    "\n",
    "I already did that, so the function will be commented down bellow, if you need to rerun this file, uncomment the line. \n",
    "\n",
    "'''\n",
    "# coordinates_dataframe(df)"
   ]
  },
  {
   "cell_type": "code",
   "execution_count": 4,
   "metadata": {},
   "outputs": [],
   "source": [
    "# Get dataframe with coords\n",
    "df = pd.read_csv('apartments_data.csv')"
   ]
  },
  {
   "cell_type": "markdown",
   "metadata": {},
   "source": [
    "# Initial exploration"
   ]
  },
  {
   "cell_type": "code",
   "execution_count": 5,
   "metadata": {},
   "outputs": [
    {
     "name": "stdout",
     "output_type": "stream",
     "text": [
      "   Unnamed: 0.2  Unnamed: 0.1  Unnamed: 0                    neighborhood  \\\n",
      "0             0             0           0                   Monte Castelo   \n",
      "1             1             1           1                   Monte Castelo   \n",
      "2             2             2           2                        Vila Ema   \n",
      "3             3             3           3     Parque Residencial Aquarius   \n",
      "4             4             4           4                   Monte Castelo   \n",
      "5             5             5           5  Condomínio Recanto da Baronesa   \n",
      "6             6             6           6                 Jardim Satélite   \n",
      "7             7             7           7             Jardim Oswaldo Cruz   \n",
      "8             8             8           8             Jardim Oswaldo Cruz   \n",
      "9             9             9           9                 Jardim Satélite   \n",
      "\n",
      "                   city                                 street  \\\n",
      "0   São José dos Campos                Rua Vinte e Um de Abril   \n",
      "1   São José dos Campos              Rua Capitão Raul Fagundes   \n",
      "2   São José dos Campos                      Rua Padre Rodolfo   \n",
      "3   São José dos Campos  Rua Doutor Jorge de Oliveira Coutinho   \n",
      "4   São José dos Campos                         Rua Guararapes   \n",
      "5   São José dos Campos   Avenida Padre Benedito Luiz da Costa   \n",
      "6   São José dos Campos             Rua Mário Alves de Almeida   \n",
      "7   São José dos Campos                Rua República do Líbano   \n",
      "8   São José dos Campos                Rua República de Israel   \n",
      "9   São José dos Campos              Avenida Papa João Paulo I   \n",
      "\n",
      "                                         description     area  rooms parking  \\\n",
      "0  LINDO APARTAMENTO\\n54 M² COM VARANDA \\n-2 QUAR...       54      2       1   \n",
      "1  O Edifício Grand Castelo foi projetado para qu...  63 - 65      2       1   \n",
      "2  Apartamento - Jardim Apolo - Residencial Allur...      120      3       2   \n",
      "3  Apartamento de luxo com 4 suítes à venda, 360m...      360      4       4   \n",
      "4  LINDO APARTAMENTO\\n54 M² COM VARANDA \\n-2 QUAR...       54      2       1   \n",
      "5  Utilize seu FGTS na entrada.\\nEntrada parcelad...       55      2       1   \n",
      "6  Cobertura Duplex no bairro Jardim Satélite com...      165      3       3   \n",
      "7  104 M² - 3 DORMITÓRIOS / 1 SUÍTE 2 VAGAS PARAL...      104      3       2   \n",
      "8  O Attuale chegou para atualizar suas definiçõe...  56 - 73  2 - 3   1 - 2   \n",
      "9  Em andar médio, vista livre, piso em madeira e...       88      3       2   \n",
      "\n",
      "  bathrooms        lat        lon  \n",
      "0         1 -23.141757 -45.782579  \n",
      "1         2 -23.188497 -45.874192  \n",
      "2         3 -23.203881 -45.902105  \n",
      "3         5        NaN        NaN  \n",
      "4         1 -23.183992 -45.876211  \n",
      "5         2        NaN        NaN  \n",
      "6         1 -23.216123 -45.888546  \n",
      "7         3 -23.201250 -45.883484  \n",
      "8         2 -23.200832 -45.883038  \n",
      "9         2 -23.228164 -45.879398  \n",
      "<class 'pandas.core.frame.DataFrame'>\n",
      "RangeIndex: 1500 entries, 0 to 1499\n",
      "Data columns (total 13 columns):\n",
      " #   Column        Non-Null Count  Dtype  \n",
      "---  ------        --------------  -----  \n",
      " 0   Unnamed: 0.2  1500 non-null   int64  \n",
      " 1   Unnamed: 0.1  1500 non-null   int64  \n",
      " 2   Unnamed: 0    1500 non-null   int64  \n",
      " 3   neighborhood  1500 non-null   object \n",
      " 4   city          1500 non-null   object \n",
      " 5   street        1236 non-null   object \n",
      " 6   description   1500 non-null   object \n",
      " 7   area          1500 non-null   object \n",
      " 8   rooms         1500 non-null   object \n",
      " 9   parking       1470 non-null   object \n",
      " 10  bathrooms     1500 non-null   object \n",
      " 11  lat           1106 non-null   float64\n",
      " 12  lon           1106 non-null   float64\n",
      "dtypes: float64(2), int64(3), object(8)\n",
      "memory usage: 152.5+ KB\n"
     ]
    }
   ],
   "source": [
    "# First insights on data\n",
    "print(df.head(10))\n",
    "df.info()"
   ]
  },
  {
   "cell_type": "code",
   "execution_count": 6,
   "metadata": {},
   "outputs": [
    {
     "name": "stdout",
     "output_type": "stream",
     "text": [
      "                  neighborhood                  city  \\\n",
      "0                Monte Castelo   São José dos Campos   \n",
      "1                Monte Castelo   São José dos Campos   \n",
      "2                     Vila Ema   São José dos Campos   \n",
      "3  Parque Residencial Aquarius   São José dos Campos   \n",
      "4                Monte Castelo   São José dos Campos   \n",
      "\n",
      "                                  street  \\\n",
      "0                Rua Vinte e Um de Abril   \n",
      "1              Rua Capitão Raul Fagundes   \n",
      "2                      Rua Padre Rodolfo   \n",
      "3  Rua Doutor Jorge de Oliveira Coutinho   \n",
      "4                         Rua Guararapes   \n",
      "\n",
      "                                         description     area rooms parking  \\\n",
      "0  LINDO APARTAMENTO\\n54 M² COM VARANDA \\n-2 QUAR...       54     2       1   \n",
      "1  O Edifício Grand Castelo foi projetado para qu...  63 - 65     2       1   \n",
      "2  Apartamento - Jardim Apolo - Residencial Allur...      120     3       2   \n",
      "3  Apartamento de luxo com 4 suítes à venda, 360m...      360     4       4   \n",
      "4  LINDO APARTAMENTO\\n54 M² COM VARANDA \\n-2 QUAR...       54     2       1   \n",
      "\n",
      "  bathrooms        lat        lon  \n",
      "0         1 -23.141757 -45.782579  \n",
      "1         2 -23.188497 -45.874192  \n",
      "2         3 -23.203881 -45.902105  \n",
      "3         5        NaN        NaN  \n",
      "4         1 -23.183992 -45.876211  \n"
     ]
    }
   ],
   "source": [
    "# Drop unnamed columns\n",
    "df = df.drop(columns=['Unnamed: 0.1',  'Unnamed: 0', 'Unnamed: 0.2',])\n",
    "print(df.head())"
   ]
  },
  {
   "cell_type": "markdown",
   "metadata": {},
   "source": [
    "## Getting columns for PCA\n",
    "\n",
    "There're 06 columns that we expected to be numerical, and so we can use in our PCA analysis:\n",
    "- Area\n",
    "- Rooms\n",
    "- Parking\n",
    "- Bathrooms\n",
    "- Lat\n",
    "- Lon\n",
    "\n",
    "Only lat and lon are presented as numerical in cel #19. Let's see what's happening in the other columns"
   ]
  },
  {
   "cell_type": "code",
   "execution_count": 7,
   "metadata": {},
   "outputs": [],
   "source": [
    "# Get the numerical variables for a PCA test\n",
    "df = df[['area', 'rooms', 'parking', 'bathrooms', 'lat', 'lon']]"
   ]
  },
  {
   "cell_type": "markdown",
   "metadata": {},
   "source": [
    "## Evaluating Area"
   ]
  },
  {
   "cell_type": "code",
   "execution_count": 8,
   "metadata": {},
   "outputs": [
    {
     "name": "stdout",
     "output_type": "stream",
     "text": [
      "      area  rooms parking bathrooms        lat        lon  area_is_numeric  \\\n",
      "0       54      2       1         1 -23.141757 -45.782579             54.0   \n",
      "1  63 - 65      2       1         2 -23.188497 -45.874192              NaN   \n",
      "2      120      3       2         3 -23.203881 -45.902105            120.0   \n",
      "3      360      4       4         5        NaN        NaN            360.0   \n",
      "4       54      2       1         1 -23.183992 -45.876211             54.0   \n",
      "5       55      2       1         2        NaN        NaN             55.0   \n",
      "6      165      3       3         1 -23.216123 -45.888546            165.0   \n",
      "7      104      3       2         3 -23.201250 -45.883484            104.0   \n",
      "8  56 - 73  2 - 3   1 - 2         2 -23.200832 -45.883038              NaN   \n",
      "9       88      3       2         2 -23.228164 -45.879398             88.0   \n",
      "\n",
      "   rooms_is_numeric  parking_is_numeric  bathrooms_is_numeric  \n",
      "0               2.0                 1.0                   1.0  \n",
      "1               2.0                 1.0                   2.0  \n",
      "2               3.0                 2.0                   3.0  \n",
      "3               4.0                 4.0                   5.0  \n",
      "4               2.0                 1.0                   1.0  \n",
      "5               2.0                 1.0                   2.0  \n",
      "6               3.0                 3.0                   1.0  \n",
      "7               3.0                 2.0                   3.0  \n",
      "8               NaN                 NaN                   2.0  \n",
      "9               3.0                 2.0                   2.0  \n"
     ]
    }
   ],
   "source": [
    "# Create a \"is_numeric\" column for each column that suposed to be numeric but isn't\n",
    "columns = ['area', 'rooms', 'parking', 'bathrooms']\n",
    "\n",
    "for column in columns:\n",
    "    \n",
    "    column_name = column + '_is_numeric'\n",
    "    df[column_name] = pd.to_numeric(df[column], errors='coerce')\n",
    "\n",
    "print(df.head(10))"
   ]
  },
  {
   "cell_type": "code",
   "execution_count": 9,
   "metadata": {},
   "outputs": [
    {
     "name": "stdout",
     "output_type": "stream",
     "text": [
      "Number of non-numeric areas:  24\n",
      "             area  area_is_numeric\n",
      "1         63 - 65              NaN\n",
      "8         56 - 73              NaN\n",
      "16        50 - 51              NaN\n",
      "23        56 - 73              NaN\n",
      "31        56 - 73              NaN\n",
      "46        50 - 51              NaN\n",
      "96        52 - 53              NaN\n",
      "114  70 - 71 - 75              NaN\n",
      "209       56 - 57              NaN\n",
      "228       77 - 80              NaN\n"
     ]
    }
   ],
   "source": [
    "# Analyzing area column\n",
    "non_numeric_area = df[df['area_is_numeric'].isna()]\n",
    "non_numeric_area = non_numeric_area[['area', 'area_is_numeric']]\n",
    "number_non_numeric_area = len(non_numeric_area)\n",
    "print('Number of non-numeric areas: ', number_non_numeric_area)\n",
    "print(non_numeric_area.head(10))"
   ]
  },
  {
   "cell_type": "markdown",
   "metadata": {},
   "source": [
    "24 apartments have more than one area separated by \"-\", this means the price should vary between each area. Since we only have the price for one area, and we don't know wich one it represents, we will exclude these apartments from our analysis  \n"
   ]
  },
  {
   "cell_type": "code",
   "execution_count": 10,
   "metadata": {},
   "outputs": [
    {
     "name": "stdout",
     "output_type": "stream",
     "text": [
      "   area rooms parking bathrooms        lat        lon  area_is_numeric  \\\n",
      "0    54     2       1         1 -23.141757 -45.782579             54.0   \n",
      "2   120     3       2         3 -23.203881 -45.902105            120.0   \n",
      "3   360     4       4         5        NaN        NaN            360.0   \n",
      "4    54     2       1         1 -23.183992 -45.876211             54.0   \n",
      "5    55     2       1         2        NaN        NaN             55.0   \n",
      "6   165     3       3         1 -23.216123 -45.888546            165.0   \n",
      "7   104     3       2         3 -23.201250 -45.883484            104.0   \n",
      "9    88     3       2         2 -23.228164 -45.879398             88.0   \n",
      "10   85     2       2         2 -23.184158 -45.954734             85.0   \n",
      "11   64     2       1         1 -23.172986 -45.894570             64.0   \n",
      "\n",
      "    rooms_is_numeric  parking_is_numeric  bathrooms_is_numeric  \n",
      "0                2.0                 1.0                   1.0  \n",
      "2                3.0                 2.0                   3.0  \n",
      "3                4.0                 4.0                   5.0  \n",
      "4                2.0                 1.0                   1.0  \n",
      "5                2.0                 1.0                   2.0  \n",
      "6                3.0                 3.0                   1.0  \n",
      "7                3.0                 2.0                   3.0  \n",
      "9                3.0                 2.0                   2.0  \n",
      "10               2.0                 2.0                   2.0  \n",
      "11               2.0                 1.0                   1.0  \n"
     ]
    }
   ],
   "source": [
    "mask = ~df['area_is_numeric'].isna()\n",
    "df = df[mask]\n",
    "print(df.head(10))"
   ]
  },
  {
   "cell_type": "markdown",
   "metadata": {},
   "source": [
    "## Evaluating Rooms"
   ]
  },
  {
   "cell_type": "code",
   "execution_count": 11,
   "metadata": {},
   "outputs": [
    {
     "name": "stdout",
     "output_type": "stream",
     "text": [
      "Number of non-numeric rooms:  4\n",
      "     rooms  rooms_is_numeric\n",
      "393  2 - 3               NaN\n",
      "415  2 - 3               NaN\n",
      "532  2 - 3               NaN\n",
      "983  1 - 2               NaN\n"
     ]
    }
   ],
   "source": [
    "# Analyzing rooms column\n",
    "non_numeric_rooms = df[df['rooms_is_numeric'].isna()]\n",
    "non_numeric_rooms = non_numeric_rooms[['rooms', 'rooms_is_numeric']]\n",
    "number_non_numeric_rooms = len(non_numeric_rooms)\n",
    "print('Number of non-numeric rooms: ', number_non_numeric_rooms)\n",
    "print(non_numeric_rooms.head(10))"
   ]
  },
  {
   "cell_type": "markdown",
   "metadata": {},
   "source": [
    "There're 4 rows with rooms that vary and we don't know wich one represents the price of the apartment. Thus, we will also exclude those datas from our analysis"
   ]
  },
  {
   "cell_type": "code",
   "execution_count": 12,
   "metadata": {},
   "outputs": [
    {
     "name": "stdout",
     "output_type": "stream",
     "text": [
      "   area rooms parking bathrooms        lat        lon  area_is_numeric  \\\n",
      "0    54     2       1         1 -23.141757 -45.782579             54.0   \n",
      "2   120     3       2         3 -23.203881 -45.902105            120.0   \n",
      "3   360     4       4         5        NaN        NaN            360.0   \n",
      "4    54     2       1         1 -23.183992 -45.876211             54.0   \n",
      "5    55     2       1         2        NaN        NaN             55.0   \n",
      "6   165     3       3         1 -23.216123 -45.888546            165.0   \n",
      "7   104     3       2         3 -23.201250 -45.883484            104.0   \n",
      "9    88     3       2         2 -23.228164 -45.879398             88.0   \n",
      "10   85     2       2         2 -23.184158 -45.954734             85.0   \n",
      "11   64     2       1         1 -23.172986 -45.894570             64.0   \n",
      "\n",
      "    rooms_is_numeric  parking_is_numeric  bathrooms_is_numeric  \n",
      "0                2.0                 1.0                   1.0  \n",
      "2                3.0                 2.0                   3.0  \n",
      "3                4.0                 4.0                   5.0  \n",
      "4                2.0                 1.0                   1.0  \n",
      "5                2.0                 1.0                   2.0  \n",
      "6                3.0                 3.0                   1.0  \n",
      "7                3.0                 2.0                   3.0  \n",
      "9                3.0                 2.0                   2.0  \n",
      "10               2.0                 2.0                   2.0  \n",
      "11               2.0                 1.0                   1.0  \n"
     ]
    }
   ],
   "source": [
    "mask = ~df['rooms_is_numeric'].isna()\n",
    "df = df[mask]\n",
    "print(df.head(10))"
   ]
  },
  {
   "cell_type": "markdown",
   "metadata": {},
   "source": [
    "## Evaluating Parking"
   ]
  },
  {
   "cell_type": "code",
   "execution_count": 13,
   "metadata": {},
   "outputs": [
    {
     "name": "stdout",
     "output_type": "stream",
     "text": [
      "Number of non-numeric parking:  49\n",
      "    parking  parking_is_numeric\n",
      "94    0 - 1                 NaN\n",
      "115     NaN                 NaN\n",
      "172   2 - 4                 NaN\n",
      "222     NaN                 NaN\n",
      "270     NaN                 NaN\n",
      "277     NaN                 NaN\n",
      "294   0 - 2                 NaN\n",
      "303     NaN                 NaN\n",
      "328     NaN                 NaN\n",
      "330     NaN                 NaN\n"
     ]
    }
   ],
   "source": [
    "# Analyzing parking column\n",
    "non_numeric_parking = df[df['parking_is_numeric'].isna()]\n",
    "non_numeric_parking = non_numeric_parking[['parking', 'parking_is_numeric']]\n",
    "number_non_numeric_parking = len(non_numeric_parking)\n",
    "print('Number of non-numeric parking: ', number_non_numeric_parking)\n",
    "print(non_numeric_parking.head(10))"
   ]
  },
  {
   "cell_type": "markdown",
   "metadata": {},
   "source": [
    "49 apartments either have no information about parking or do not have any information at all. For that, we will also exclude them from our analisys"
   ]
  },
  {
   "cell_type": "code",
   "execution_count": 14,
   "metadata": {},
   "outputs": [
    {
     "name": "stdout",
     "output_type": "stream",
     "text": [
      "   area rooms parking bathrooms        lat        lon  area_is_numeric  \\\n",
      "0    54     2       1         1 -23.141757 -45.782579             54.0   \n",
      "2   120     3       2         3 -23.203881 -45.902105            120.0   \n",
      "3   360     4       4         5        NaN        NaN            360.0   \n",
      "4    54     2       1         1 -23.183992 -45.876211             54.0   \n",
      "5    55     2       1         2        NaN        NaN             55.0   \n",
      "6   165     3       3         1 -23.216123 -45.888546            165.0   \n",
      "7   104     3       2         3 -23.201250 -45.883484            104.0   \n",
      "9    88     3       2         2 -23.228164 -45.879398             88.0   \n",
      "10   85     2       2         2 -23.184158 -45.954734             85.0   \n",
      "11   64     2       1         1 -23.172986 -45.894570             64.0   \n",
      "\n",
      "    rooms_is_numeric  parking_is_numeric  bathrooms_is_numeric  \n",
      "0                2.0                 1.0                   1.0  \n",
      "2                3.0                 2.0                   3.0  \n",
      "3                4.0                 4.0                   5.0  \n",
      "4                2.0                 1.0                   1.0  \n",
      "5                2.0                 1.0                   2.0  \n",
      "6                3.0                 3.0                   1.0  \n",
      "7                3.0                 2.0                   3.0  \n",
      "9                3.0                 2.0                   2.0  \n",
      "10               2.0                 2.0                   2.0  \n",
      "11               2.0                 1.0                   1.0  \n"
     ]
    }
   ],
   "source": [
    "mask = ~df['parking_is_numeric'].isna()\n",
    "df = df[mask]\n",
    "print(df.head(10))"
   ]
  },
  {
   "cell_type": "markdown",
   "metadata": {},
   "source": [
    "## Evaluating Bathrooms"
   ]
  },
  {
   "cell_type": "code",
   "execution_count": 15,
   "metadata": {},
   "outputs": [
    {
     "name": "stdout",
     "output_type": "stream",
     "text": [
      "Number of non-numeric bathrooms:  33\n"
     ]
    },
    {
     "ename": "AttributeError",
     "evalue": "'int' object has no attribute 'head'",
     "output_type": "error",
     "traceback": [
      "\u001b[1;31m---------------------------------------------------------------------------\u001b[0m",
      "\u001b[1;31mAttributeError\u001b[0m                            Traceback (most recent call last)",
      "Cell \u001b[1;32mIn[15], line 6\u001b[0m\n\u001b[0;32m      4\u001b[0m non_numeric_bathrooms \u001b[38;5;241m=\u001b[39m \u001b[38;5;28mlen\u001b[39m(non_numeric_bathrooms)\n\u001b[0;32m      5\u001b[0m \u001b[38;5;28mprint\u001b[39m(\u001b[38;5;124m'\u001b[39m\u001b[38;5;124mNumber of non-numeric bathrooms: \u001b[39m\u001b[38;5;124m'\u001b[39m, non_numeric_bathrooms)\n\u001b[1;32m----> 6\u001b[0m \u001b[38;5;28mprint\u001b[39m(\u001b[43mnon_numeric_bathrooms\u001b[49m\u001b[38;5;241;43m.\u001b[39;49m\u001b[43mhead\u001b[49m(\u001b[38;5;241m10\u001b[39m))\n",
      "\u001b[1;31mAttributeError\u001b[0m: 'int' object has no attribute 'head'"
     ]
    }
   ],
   "source": [
    "# Analyzing bathroom column\n",
    "non_numeric_bathrooms = df[df['bathrooms_is_numeric'].isna()]\n",
    "non_numeric_bathrooms = non_numeric_bathrooms[['bathrooms', 'bathrooms_is_numeric']]\n",
    "number_non_numeric_bathrooms = len(non_numeric_bathrooms)\n",
    "print('Number of non-numeric bathrooms: ', number_non_numeric_bathrooms)\n",
    "print(non_numeric_bathrooms.head(10))"
   ]
  },
  {
   "cell_type": "markdown",
   "metadata": {},
   "source": [
    "33 apartments have ambiguos infromation about number of bathrooms, we will exclude them from the analysis"
   ]
  },
  {
   "cell_type": "code",
   "execution_count": null,
   "metadata": {},
   "outputs": [],
   "source": [
    "mask = ~df['bathrooms_is_numeric'].isna()\n",
    "df = df[mask]\n",
    "print(df.head(10))"
   ]
  },
  {
   "cell_type": "markdown",
   "metadata": {},
   "source": [
    "## Evaluating Lat and Lon"
   ]
  },
  {
   "cell_type": "code",
   "execution_count": null,
   "metadata": {},
   "outputs": [],
   "source": [
    "# Exclude apartments without coordinates\n",
    "df = df[~(df['lat'].isna()) | ~(df['lon'].isna())]\n",
    "number_non_numeric_coords = len(df[(df['lat'].isna()) | (df['lon'].isna())])\n",
    "total_cleaned_observations = len(df)\n",
    "print('Number of non-numeric coords: ', number_non_numeric_coords)\n",
    "\n",
    "print('Complete observations : ', len(df))"
   ]
  },
  {
   "cell_type": "markdown",
   "metadata": {},
   "source": [
    "## Conclusion"
   ]
  },
  {
   "cell_type": "code",
   "execution_count": null,
   "metadata": {},
   "outputs": [],
   "source": []
  }
 ],
 "metadata": {
  "kernelspec": {
   "display_name": ".venv",
   "language": "python",
   "name": "python3"
  },
  "language_info": {
   "codemirror_mode": {
    "name": "ipython",
    "version": 3
   },
   "file_extension": ".py",
   "mimetype": "text/x-python",
   "name": "python",
   "nbconvert_exporter": "python",
   "pygments_lexer": "ipython3",
   "version": "3.11.5"
  }
 },
 "nbformat": 4,
 "nbformat_minor": 2
}
